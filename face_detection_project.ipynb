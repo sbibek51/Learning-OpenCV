{
 "cells": [
  {
   "cell_type": "code",
   "execution_count": 1,
   "id": "0b6faddf",
   "metadata": {},
   "outputs": [],
   "source": [
    "#Bibek Shiwakoti\n",
    "#Feb 15 2024"
   ]
  },
  {
   "cell_type": "code",
   "execution_count": 2,
   "id": "9a380694",
   "metadata": {},
   "outputs": [],
   "source": [
    "import cv2\n",
    "import numpy as np"
   ]
  },
  {
   "cell_type": "code",
   "execution_count": 3,
   "id": "8ee63d71",
   "metadata": {},
   "outputs": [],
   "source": [
    "img = cv2.imread('./images/faces.png')\n",
    "\n",
    "\n",
    "cv2.imshow('face',img)\n",
    "cv2.waitKey(0)\n",
    "cv2.destroyAllWindows()"
   ]
  },
  {
   "cell_type": "code",
   "execution_count": 20,
   "id": "3e142f8c",
   "metadata": {},
   "outputs": [],
   "source": [
    "\n",
    "def face_detection(img):\n",
    "    image = img.copy()\n",
    "\n",
    "    # loading cascade classifier\n",
    "    face_cascade = cv2.CascadeClassifier('./model/haarcascade_frontalface_default.xml')\n",
    "    # now we are gonna apply this classifier to our faces\n",
    "\n",
    "    #we first need to convert that image to grayscale and then cpply the classifier only\n",
    "\n",
    "\n",
    "    #step 1. convert image to grayscale\n",
    "    gray =cv2.cvtColor(img,cv2.COLOR_BGR2GRAY)\n",
    "\n",
    "    #step 2. apply gray scale image to cascade classifier\n",
    "    box,detections = face_cascade.detectMultiScale2(gray,minNeighbors=8)\n",
    "\n",
    "\n",
    "    # step3 : drawing bounding box\n",
    "    for x,y,w,h in box:\n",
    "        cv2.rectangle(image,(x,y),(x+w,y+h),(0,255,0),1)\n",
    "    return image\n",
    "\n",
    "    \n",
    "    \n",
    "cv2.imshow('face detection', image)\n",
    "cv2.waitKey(0)\n",
    "cv2.destroyAllWindows()"
   ]
  },
  {
   "cell_type": "code",
   "execution_count": 16,
   "id": "8dfd4e93",
   "metadata": {},
   "outputs": [
    {
     "data": {
      "text/plain": [
       "array([[487,  82, 173, 173],\n",
       "       [ 58,  55, 225, 225],\n",
       "       [228,  71, 265, 265],\n",
       "       [141, 239,  66,  66]])"
      ]
     },
     "execution_count": 16,
     "metadata": {},
     "output_type": "execute_result"
    }
   ],
   "source": [
    "box"
   ]
  },
  {
   "cell_type": "code",
   "execution_count": 17,
   "id": "a233fed6",
   "metadata": {},
   "outputs": [
    {
     "data": {
      "text/plain": [
       "array([45,  9, 38,  9])"
      ]
     },
     "execution_count": 17,
     "metadata": {},
     "output_type": "execute_result"
    }
   ],
   "source": [
    "detections"
   ]
  },
  {
   "cell_type": "code",
   "execution_count": 21,
   "id": "634bc16c",
   "metadata": {},
   "outputs": [],
   "source": [
    "img_detect = face_detection(img)"
   ]
  },
  {
   "cell_type": "code",
   "execution_count": 24,
   "id": "c97b5a66",
   "metadata": {},
   "outputs": [],
   "source": [
    "cv2.imshow('face detection', img_detect)\n",
    "cv2.waitKey(0)\n",
    "cv2.destroyAllWindows()"
   ]
  },
  {
   "cell_type": "code",
   "execution_count": 27,
   "id": "53913d04",
   "metadata": {},
   "outputs": [],
   "source": [
    "#*******Next applying the face detection to video**********\n",
    "# Happy Learning"
   ]
  },
  {
   "cell_type": "markdown",
   "id": "d2fcbd4b",
   "metadata": {},
   "source": [
    "## Real Time Face Detection"
   ]
  },
  {
   "cell_type": "code",
   "execution_count": 28,
   "id": "2f20a6db",
   "metadata": {},
   "outputs": [],
   "source": [
    "cap = cv2.VideoCapture(0)\n",
    "face_cascade =cv2.CascadeClassifier('./model/haarcascade_frontalface_default.xml')\n",
    "\n",
    "while True:\n",
    "    ret,frame =cap.read()\n",
    "    if ret== False:\n",
    "        break\n",
    "        \n",
    "    img_detect =face_detection(frame)\n",
    "    cv2.imshow('Real time face detection',img_detect)\n",
    "    if cv2.waitKey(1) == ord('q'):  #pressing q stops the window\n",
    "        break\n",
    "        \n",
    "cap.release()\n",
    "cv2.destroyAllWindows()"
   ]
  },
  {
   "cell_type": "code",
   "execution_count": null,
   "id": "53c94d13",
   "metadata": {},
   "outputs": [],
   "source": [
    "#********Happy Learning******************"
   ]
  },
  {
   "cell_type": "code",
   "execution_count": null,
   "id": "c4a22953",
   "metadata": {},
   "outputs": [],
   "source": []
  }
 ],
 "metadata": {
  "kernelspec": {
   "display_name": "Python 3 (ipykernel)",
   "language": "python",
   "name": "python3"
  },
  "language_info": {
   "codemirror_mode": {
    "name": "ipython",
    "version": 3
   },
   "file_extension": ".py",
   "mimetype": "text/x-python",
   "name": "python",
   "nbconvert_exporter": "python",
   "pygments_lexer": "ipython3",
   "version": "3.11.3"
  }
 },
 "nbformat": 4,
 "nbformat_minor": 5
}
