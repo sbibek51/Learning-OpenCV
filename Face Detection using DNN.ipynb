{
 "cells": [
  {
   "cell_type": "code",
   "execution_count": 21,
   "id": "e16ddd84",
   "metadata": {},
   "outputs": [],
   "source": [
    "#Bibek Shiwakoti \n",
    "# feb 16 2024"
   ]
  },
  {
   "cell_type": "code",
   "execution_count": 22,
   "id": "d5426e0b",
   "metadata": {},
   "outputs": [],
   "source": [
    "import numpy as np\n",
    "import cv2"
   ]
  },
  {
   "cell_type": "code",
   "execution_count": 23,
   "id": "e2bfb9b1",
   "metadata": {},
   "outputs": [],
   "source": [
    "img = cv2.imread('./images/faces.jpg')\n",
    "cv2.imshow('faces',img)\n",
    "cv2.waitKey(0)\n",
    "cv2.destroyAllWindows()"
   ]
  },
  {
   "cell_type": "code",
   "execution_count": 24,
   "id": "62b3f5b5",
   "metadata": {},
   "outputs": [],
   "source": [
    "face_detection_model =cv2.dnn.readNetFromCaffe('./model/deploy.prototxt',\n",
    "                                                './model/res10_300x300_ssd_iter_140000.caffemodel')"
   ]
  },
  {
   "cell_type": "code",
   "execution_count": 41,
   "id": "2cf7bcbe",
   "metadata": {},
   "outputs": [],
   "source": [
    "def face_detection_dnn(img):\n",
    "    blob = cv2.dnn.blobFromImage(img,1,(300,300),(104,177,123),swapRB=True)\n",
    "    face_detection_model.setInput(blob)\n",
    "    detections=face_detection_model.forward()\n",
    "    image =img.copy()\n",
    "    h,w =image.shape[:2]\n",
    "    \n",
    "    for i in range (0,detections.shape[2]):\n",
    "        confidence =detections[0,0,i,2]\n",
    "        if confidence >0.5:\n",
    "            box=detections[0,0,i,3:7]*np.array([w,h,w,h])\n",
    "            box=box.astype('int')\n",
    "            pt1=(box[0],box[1])\n",
    "            pt2=(box[2],box[3])\n",
    "            \n",
    "            cv2.reactangle(image,pt1,pt2,(0,255,0),1)\n",
    "            \n",
    "            text ='score : {:.0f} %'.format(confidence*100)\n",
    "            cv2.putText(image,text,pt1,cv2,FONT_HERSHEY_SIMPLEX,1,(255,255,255),2)\n",
    "            \n",
    "            return image\n",
    "            "
   ]
  },
  {
   "cell_type": "code",
   "execution_count": 42,
   "id": "7035dd48",
   "metadata": {},
   "outputs": [
    {
     "ename": "error",
     "evalue": "OpenCV(4.9.0) D:\\a\\opencv-python\\opencv-python\\opencv\\modules\\dnn\\src\\layers\\convolution_layer.cpp:368: error: (-215:Assertion failed) !blobs.empty() || inputs.size() > 1 in function 'cv::dnn::ConvolutionLayerImpl::getMemoryShapes'\n",
     "output_type": "error",
     "traceback": [
      "\u001b[1;31m---------------------------------------------------------------------------\u001b[0m",
      "\u001b[1;31merror\u001b[0m                                     Traceback (most recent call last)",
      "Cell \u001b[1;32mIn[42], line 7\u001b[0m\n\u001b[0;32m      5\u001b[0m \u001b[38;5;28;01mif\u001b[39;00m ret \u001b[38;5;241m==\u001b[39m \u001b[38;5;28;01mFalse\u001b[39;00m:\n\u001b[0;32m      6\u001b[0m     \u001b[38;5;28;01mbreak\u001b[39;00m\n\u001b[1;32m----> 7\u001b[0m img_detection \u001b[38;5;241m=\u001b[39m \u001b[43mface_detection_dnn\u001b[49m\u001b[43m(\u001b[49m\u001b[43mframe\u001b[49m\u001b[43m)\u001b[49m\n\u001b[0;32m      8\u001b[0m cv2\u001b[38;5;241m.\u001b[39mimshow(\u001b[38;5;124m'\u001b[39m\u001b[38;5;124mReal time face detection with dnn\u001b[39m\u001b[38;5;124m'\u001b[39m,img_detection)\n\u001b[0;32m      9\u001b[0m \u001b[38;5;28;01mif\u001b[39;00m cv2\u001b[38;5;241m.\u001b[39mwaitKey(\u001b[38;5;241m1\u001b[39m)\u001b[38;5;241m==\u001b[39m \u001b[38;5;28mord\u001b[39m(\u001b[38;5;124m'\u001b[39m\u001b[38;5;124mq\u001b[39m\u001b[38;5;124m'\u001b[39m):\n",
      "Cell \u001b[1;32mIn[41], line 4\u001b[0m, in \u001b[0;36mface_detection_dnn\u001b[1;34m(img)\u001b[0m\n\u001b[0;32m      2\u001b[0m blob \u001b[38;5;241m=\u001b[39m cv2\u001b[38;5;241m.\u001b[39mdnn\u001b[38;5;241m.\u001b[39mblobFromImage(img,\u001b[38;5;241m1\u001b[39m,(\u001b[38;5;241m300\u001b[39m,\u001b[38;5;241m300\u001b[39m),(\u001b[38;5;241m104\u001b[39m,\u001b[38;5;241m177\u001b[39m,\u001b[38;5;241m123\u001b[39m),swapRB\u001b[38;5;241m=\u001b[39m\u001b[38;5;28;01mTrue\u001b[39;00m)\n\u001b[0;32m      3\u001b[0m face_detection_model\u001b[38;5;241m.\u001b[39msetInput(blob)\n\u001b[1;32m----> 4\u001b[0m detections\u001b[38;5;241m=\u001b[39m\u001b[43mface_detection_model\u001b[49m\u001b[38;5;241;43m.\u001b[39;49m\u001b[43mforward\u001b[49m\u001b[43m(\u001b[49m\u001b[43m)\u001b[49m\n\u001b[0;32m      5\u001b[0m image \u001b[38;5;241m=\u001b[39mimg\u001b[38;5;241m.\u001b[39mcopy()\n\u001b[0;32m      6\u001b[0m h,w \u001b[38;5;241m=\u001b[39mimage\u001b[38;5;241m.\u001b[39mshape[:\u001b[38;5;241m2\u001b[39m]\n",
      "\u001b[1;31merror\u001b[0m: OpenCV(4.9.0) D:\\a\\opencv-python\\opencv-python\\opencv\\modules\\dnn\\src\\layers\\convolution_layer.cpp:368: error: (-215:Assertion failed) !blobs.empty() || inputs.size() > 1 in function 'cv::dnn::ConvolutionLayerImpl::getMemoryShapes'\n"
     ]
    }
   ],
   "source": [
    "cap=cv2.VideoCapture(0)\n",
    "while True:\n",
    "    ret,frame=cap.read()\n",
    "    \n",
    "    if ret == False:\n",
    "        break\n",
    "    img_detection = face_detection_dnn(frame)\n",
    "    cv2.imshow('Real time face detection with dnn',img_detection)\n",
    "    if cv2.waitKey(1)== ord('q'):\n",
    "        break\n",
    "        \n",
    "cap.replace()\n",
    "cv2.destroyAllWindows()"
   ]
  },
  {
   "cell_type": "code",
   "execution_count": 35,
   "id": "5decc594",
   "metadata": {},
   "outputs": [],
   "source": [
    "face_detection_model =cv2.dnn.readNetFromCaffe('./model/deploy.prototxt',\n",
    "                                                './model/New Folder/res10_300x300_ssd_iter_140000.caffemodel')"
   ]
  },
  {
   "cell_type": "code",
   "execution_count": 36,
   "id": "d03ea854",
   "metadata": {},
   "outputs": [
    {
     "ename": "error",
     "evalue": "OpenCV(4.9.0) D:\\a\\opencv-python\\opencv-python\\opencv\\modules\\dnn\\src\\layers\\convolution_layer.cpp:368: error: (-215:Assertion failed) !blobs.empty() || inputs.size() > 1 in function 'cv::dnn::ConvolutionLayerImpl::getMemoryShapes'\n",
     "output_type": "error",
     "traceback": [
      "\u001b[1;31m---------------------------------------------------------------------------\u001b[0m",
      "\u001b[1;31merror\u001b[0m                                     Traceback (most recent call last)",
      "Cell \u001b[1;32mIn[36], line 6\u001b[0m\n\u001b[0;32m      4\u001b[0m face_detection_model\u001b[38;5;241m.\u001b[39msetInput(blob)\n\u001b[0;32m      5\u001b[0m \u001b[38;5;66;03m#step 3: get the output\u001b[39;00m\n\u001b[1;32m----> 6\u001b[0m detections \u001b[38;5;241m=\u001b[39m \u001b[43mface_detection_model\u001b[49m\u001b[38;5;241;43m.\u001b[39;49m\u001b[43mforward\u001b[49m\u001b[43m(\u001b[49m\u001b[43m)\u001b[49m\n",
      "\u001b[1;31merror\u001b[0m: OpenCV(4.9.0) D:\\a\\opencv-python\\opencv-python\\opencv\\modules\\dnn\\src\\layers\\convolution_layer.cpp:368: error: (-215:Assertion failed) !blobs.empty() || inputs.size() > 1 in function 'cv::dnn::ConvolutionLayerImpl::getMemoryShapes'\n"
     ]
    }
   ],
   "source": [
    "# step1: blob from image\n",
    "blob = cv2.dnn.blobFromImage(img,1,(300,300),(104,177,123),swapRB=True)\n",
    "# step2 : set blob as input\n",
    "face_detection_model.setInput(blob)\n",
    "#step 3: get the output\n",
    "detections = face_detection_model.forward()\n"
   ]
  },
  {
   "cell_type": "code",
   "execution_count": null,
   "id": "ce646e06",
   "metadata": {},
   "outputs": [],
   "source": [
    "# ***********************************"
   ]
  },
  {
   "cell_type": "markdown",
   "id": "6e0f4a52",
   "metadata": {},
   "source": [
    "error                                     Traceback (most recent call last)\n",
    "Cell In[36], line 6\n",
    "      4 face_detection_model.setInput(blob)\n",
    "      5 #step 3: get the output\n",
    "----> 6 detections = face_detection_model.forward()\n",
    "\n",
    "error: OpenCV(4.9.0) D:\\a\\opencv-python\\opencv-python\\opencv\\modules\\dnn\\src\\layers\\convolution_layer.cpp:368: error: (-215:Assertion failed) !blobs.empty() || inputs.size() > 1 in function 'cv::dnn::ConvolutionLayerImpl::getMemoryShapes'\n"
   ]
  },
  {
   "cell_type": "code",
   "execution_count": null,
   "id": "59d62479",
   "metadata": {},
   "outputs": [],
   "source": [
    "# *******************tried to debug and resolve blob empty error but cant resolve it right now**********************************************"
   ]
  },
  {
   "cell_type": "code",
   "execution_count": 7,
   "id": "3e6d4132",
   "metadata": {},
   "outputs": [
    {
     "name": "stdout",
     "output_type": "stream",
     "text": [
      "Model loaded successfully.\n",
      "Blob created successfully.\n"
     ]
    },
    {
     "ename": "error",
     "evalue": "OpenCV(4.9.0) D:\\a\\opencv-python\\opencv-python\\opencv\\modules\\dnn\\src\\layers\\convolution_layer.cpp:368: error: (-215:Assertion failed) !blobs.empty() || inputs.size() > 1 in function 'cv::dnn::ConvolutionLayerImpl::getMemoryShapes'\n",
     "output_type": "error",
     "traceback": [
      "\u001b[1;31m---------------------------------------------------------------------------\u001b[0m",
      "\u001b[1;31merror\u001b[0m                                     Traceback (most recent call last)",
      "Cell \u001b[1;32mIn[7], line 34\u001b[0m\n\u001b[0;32m     31\u001b[0m face_detection_model\u001b[38;5;241m.\u001b[39msetInput(blob)\n\u001b[0;32m     33\u001b[0m \u001b[38;5;66;03m# Perform inference\u001b[39;00m\n\u001b[1;32m---> 34\u001b[0m detections \u001b[38;5;241m=\u001b[39m \u001b[43mface_detection_model\u001b[49m\u001b[38;5;241;43m.\u001b[39;49m\u001b[43mforward\u001b[49m\u001b[43m(\u001b[49m\u001b[43m)\u001b[49m\n\u001b[0;32m     36\u001b[0m \u001b[38;5;66;03m# Check if detections were successful\u001b[39;00m\n\u001b[0;32m     37\u001b[0m \u001b[38;5;28;01mif\u001b[39;00m detections \u001b[38;5;129;01mis\u001b[39;00m \u001b[38;5;28;01mNone\u001b[39;00m:\n",
      "\u001b[1;31merror\u001b[0m: OpenCV(4.9.0) D:\\a\\opencv-python\\opencv-python\\opencv\\modules\\dnn\\src\\layers\\convolution_layer.cpp:368: error: (-215:Assertion failed) !blobs.empty() || inputs.size() > 1 in function 'cv::dnn::ConvolutionLayerImpl::getMemoryShapes'\n"
     ]
    }
   ],
   "source": [
    "import cv2\n",
    "import numpy as np\n",
    "\n",
    "# Load the image\n",
    "img = cv2.imread('./images/faces.jpg')\n",
    "\n",
    "# Check if the image was loaded successfully\n",
    "if img is None:\n",
    "    print(\"Error: Failed to load the image.\")\n",
    "else:\n",
    "    # Load the face detection model\n",
    "    face_detection_model = cv2.dnn.readNetFromCaffe('./model/deploy.prototxt',\n",
    "                                                    './model/res10_300x300_ssd_iter_140000.caffemodel')\n",
    "\n",
    "    # Check if the model was loaded successfully\n",
    "    if face_detection_model.empty():\n",
    "        print(\"Error: Failed to load the face detection model.\")\n",
    "    else:\n",
    "        print(\"Model loaded successfully.\")\n",
    "        \n",
    "        # Create a blob from the image\n",
    "        blob = cv2.dnn.blobFromImage(img, 1.0, (300, 300), (104.0, 177.0, 123.0))\n",
    "\n",
    "        # Check if the blob was created successfully\n",
    "        if blob is None:\n",
    "            print(\"Error: Failed to create the blob.\")\n",
    "        else:\n",
    "            print(\"Blob created successfully.\")\n",
    "            \n",
    "            # Set the blob as input to the model\n",
    "            face_detection_model.setInput(blob)\n",
    "\n",
    "            # Perform inference\n",
    "            detections = face_detection_model.forward()\n",
    "\n",
    "            # Check if detections were successful\n",
    "            if detections is None:\n",
    "                print(\"Error: No detections found.\")\n",
    "            else:\n",
    "                print(\"Detections:\", detections)\n"
   ]
  },
  {
   "cell_type": "code",
   "execution_count": 9,
   "id": "7d4bdd4e",
   "metadata": {},
   "outputs": [
    {
     "name": "stdout",
     "output_type": "stream",
     "text": [
      "Model loaded successfully.\n",
      "Input layer names: ('conv1', 'relu1', 'pool1', 'norm1', 'conv2', 'relu2', 'pool2', 'norm2', 'conv3', 'relu3', 'conv4', 'relu4', 'conv5', 'relu5', 'pool5', 'fc6', 'relu6', 'drop6', 'fc7', 'relu7', 'drop7', 'fc8', 'prob')\n",
      "Blob created successfully.\n"
     ]
    },
    {
     "ename": "error",
     "evalue": "OpenCV(4.9.0) D:\\a\\opencv-python\\opencv-python\\opencv\\modules\\dnn\\src\\net_impl.cpp:1403: error: (-204:Requested object was not found) Requested blob \"conv1\" not found in function 'cv::dnn::dnn4_v20231225::Net::Impl::setInput'\n",
     "output_type": "error",
     "traceback": [
      "\u001b[1;31m---------------------------------------------------------------------------\u001b[0m",
      "\u001b[1;31merror\u001b[0m                                     Traceback (most recent call last)",
      "Cell \u001b[1;32mIn[9], line 35\u001b[0m\n\u001b[0;32m     33\u001b[0m \u001b[38;5;66;03m# Set the blob as input to the model\u001b[39;00m\n\u001b[0;32m     34\u001b[0m input_layer_name \u001b[38;5;241m=\u001b[39m face_detection_model\u001b[38;5;241m.\u001b[39mgetLayerNames()[\u001b[38;5;241m0\u001b[39m]\n\u001b[1;32m---> 35\u001b[0m \u001b[43mface_detection_model\u001b[49m\u001b[38;5;241;43m.\u001b[39;49m\u001b[43msetInput\u001b[49m\u001b[43m(\u001b[49m\u001b[43mblob\u001b[49m\u001b[43m,\u001b[49m\u001b[43m \u001b[49m\u001b[43minput_layer_name\u001b[49m\u001b[43m)\u001b[49m\n\u001b[0;32m     38\u001b[0m \u001b[38;5;66;03m# Perform inference\u001b[39;00m\n\u001b[0;32m     39\u001b[0m detections \u001b[38;5;241m=\u001b[39m face_detection_model\u001b[38;5;241m.\u001b[39mforward()\n",
      "\u001b[1;31merror\u001b[0m: OpenCV(4.9.0) D:\\a\\opencv-python\\opencv-python\\opencv\\modules\\dnn\\src\\net_impl.cpp:1403: error: (-204:Requested object was not found) Requested blob \"conv1\" not found in function 'cv::dnn::dnn4_v20231225::Net::Impl::setInput'\n"
     ]
    }
   ],
   "source": [
    "import cv2\n",
    "import numpy as np\n",
    "\n",
    "# Load the image\n",
    "img = cv2.imread('./images/faces.jpg')\n",
    "\n",
    "# Check if the image was loaded successfully\n",
    "if img is None:\n",
    "    print(\"Error: Failed to load the image.\")\n",
    "else:\n",
    "    # Load the face detection model\n",
    "    face_detection_model = cv2.dnn.readNetFromCaffe('./model/deploy.prototxt',\n",
    "                                                    './model/res10_300x300_ssd_iter_140000.caffemodel')\n",
    "\n",
    "    # Check if the model was loaded successfully\n",
    "    if face_detection_model.empty():\n",
    "        print(\"Error: Failed to load the face detection model.\")\n",
    "    else:\n",
    "        print(\"Model loaded successfully.\")\n",
    "        \n",
    "        # Print the names of the input layers\n",
    "        print(\"Input layer names:\", face_detection_model.getLayerNames())\n",
    "        \n",
    "        # Create a blob from the image\n",
    "        blob = cv2.dnn.blobFromImage(img, 1.0, (300, 300), (104.0, 177.0, 123.0))\n",
    "\n",
    "        # Check if the blob was created successfully\n",
    "        if blob is None:\n",
    "            print(\"Error: Failed to create the blob.\")\n",
    "        else:\n",
    "            print(\"Blob created successfully.\")\n",
    "            \n",
    "            # Set the blob as input to the model\n",
    "            input_layer_name = face_detection_model.getLayerNames()[0]\n",
    "            face_detection_model.setInput(blob, input_layer_name)\n",
    "    \n",
    "\n",
    "            # Perform inference\n",
    "            detections = face_detection_model.forward()\n",
    "\n",
    "            # Check if detections were successful\n",
    "            if detections is None:\n",
    "                print(\"Error: No detections found.\")\n",
    "            else:\n",
    "                print(\"Detections:\", detections)\n"
   ]
  }
 ],
 "metadata": {
  "kernelspec": {
   "display_name": "Python 3 (ipykernel)",
   "language": "python",
   "name": "python3"
  },
  "language_info": {
   "codemirror_mode": {
    "name": "ipython",
    "version": 3
   },
   "file_extension": ".py",
   "mimetype": "text/x-python",
   "name": "python",
   "nbconvert_exporter": "python",
   "pygments_lexer": "ipython3",
   "version": "3.11.3"
  }
 },
 "nbformat": 4,
 "nbformat_minor": 5
}
