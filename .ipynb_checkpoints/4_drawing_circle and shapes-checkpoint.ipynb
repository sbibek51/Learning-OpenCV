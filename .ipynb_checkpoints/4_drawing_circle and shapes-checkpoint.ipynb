{
 "cells": [
  {
   "cell_type": "code",
   "execution_count": 1,
   "id": "f3d23a10",
   "metadata": {},
   "outputs": [],
   "source": [
    "#Bibek Shiwakoti\n",
    "# Feb 14 2024"
   ]
  },
  {
   "cell_type": "code",
   "execution_count": 1,
   "id": "f5d0f2ba",
   "metadata": {},
   "outputs": [],
   "source": [
    "import numpy as np\n",
    "import cv2"
   ]
  },
  {
   "cell_type": "code",
   "execution_count": 2,
   "id": "373465b8",
   "metadata": {},
   "outputs": [],
   "source": [
    "canvas = np.zeros((300,300,3),dtype ='uint8')"
   ]
  },
  {
   "cell_type": "code",
   "execution_count": 3,
   "id": "0fd4a3f7",
   "metadata": {},
   "outputs": [],
   "source": [
    "def display(winname,image):\n",
    "    cv2.imshow(winname,image)\n",
    "    cv2.waitKey(0)\n",
    "    cv2.destroyAllWindows()"
   ]
  },
  {
   "cell_type": "code",
   "execution_count": 4,
   "id": "eae3ca90",
   "metadata": {},
   "outputs": [],
   "source": [
    "display('canvas',canvas)"
   ]
  },
  {
   "cell_type": "code",
   "execution_count": 5,
   "id": "ed6043d6",
   "metadata": {},
   "outputs": [],
   "source": [
    "green = (0,255,0)\n",
    "cv2.line(canvas,(0,0),(300,300),green)\n",
    "display('canvas',canvas)"
   ]
  },
  {
   "cell_type": "code",
   "execution_count": 6,
   "id": "b83fafdf",
   "metadata": {},
   "outputs": [],
   "source": [
    "color = (0,0,255)\n",
    "cv2.line(canvas,(300,0),(0,300),color,3)  #thickness is 3 pixels\n",
    "display('canvas',canvas)"
   ]
  },
  {
   "cell_type": "markdown",
   "id": "94670cae",
   "metadata": {},
   "source": [
    "## Abstract Drawings"
   ]
  },
  {
   "cell_type": "code",
   "execution_count": 7,
   "id": "6195acc4",
   "metadata": {},
   "outputs": [],
   "source": [
    "for i in range(0,25):\n",
    "    radius = np.random.randint(5,200)\n",
    "    color = np.random.randint(0,256,size=(3,)).tolist()\n",
    "    pt= np.random.randint(0,300,size=(2,))\n",
    "    cv2.circle(canvas,tuple(pt),radius,color,-1)"
   ]
  },
  {
   "cell_type": "code",
   "execution_count": 8,
   "id": "a290a75d",
   "metadata": {},
   "outputs": [],
   "source": [
    "display('canvas',canvas)"
   ]
  },
  {
   "cell_type": "code",
   "execution_count": 9,
   "id": "a5f5f470",
   "metadata": {},
   "outputs": [
    {
     "data": {
      "text/plain": [
       "True"
      ]
     },
     "execution_count": 9,
     "metadata": {},
     "output_type": "execute_result"
    }
   ],
   "source": [
    "cv2.imwrite('random_canvas_generated.png',canvas)"
   ]
  },
  {
   "cell_type": "markdown",
   "id": "18871530",
   "metadata": {},
   "source": [
    "## Circles"
   ]
  },
  {
   "cell_type": "code",
   "execution_count": 12,
   "id": "54e6f24c",
   "metadata": {},
   "outputs": [],
   "source": [
    "canvas =np.zeros((300,300,3),dtype='uint8')"
   ]
  },
  {
   "cell_type": "code",
   "execution_count": 13,
   "id": "08f85576",
   "metadata": {},
   "outputs": [],
   "source": [
    "centerx,centery = (canvas.shape[1]//2, canvas.shape[0]//2)\n",
    "white =(255,255,255)\n",
    "\n",
    "for r in range(0,175,25):\n",
    "    cv2.circle(canvas,(centerx,centery),r,white)\n"
   ]
  },
  {
   "cell_type": "code",
   "execution_count": 14,
   "id": "1f7ac380",
   "metadata": {},
   "outputs": [],
   "source": [
    "display('Circles',canvas)"
   ]
  },
  {
   "cell_type": "code",
   "execution_count": null,
   "id": "82a087e2",
   "metadata": {},
   "outputs": [],
   "source": [
    "****************Next Face Detection Project*************************"
   ]
  }
 ],
 "metadata": {
  "kernelspec": {
   "display_name": "Python 3 (ipykernel)",
   "language": "python",
   "name": "python3"
  },
  "language_info": {
   "codemirror_mode": {
    "name": "ipython",
    "version": 3
   },
   "file_extension": ".py",
   "mimetype": "text/x-python",
   "name": "python",
   "nbconvert_exporter": "python",
   "pygments_lexer": "ipython3",
   "version": "3.11.3"
  }
 },
 "nbformat": 4,
 "nbformat_minor": 5
}
