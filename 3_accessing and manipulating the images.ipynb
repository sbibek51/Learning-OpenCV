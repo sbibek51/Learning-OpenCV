{
 "cells": [
  {
   "cell_type": "code",
   "execution_count": 1,
   "id": "a0fc690c",
   "metadata": {},
   "outputs": [],
   "source": [
    "#Bibek Shiwakoti\n",
    "# Feb 12 2024"
   ]
  },
  {
   "cell_type": "code",
   "execution_count": 2,
   "id": "c345d005",
   "metadata": {},
   "outputs": [],
   "source": [
    "import numpy as np\n",
    "import cv2 "
   ]
  },
  {
   "cell_type": "code",
   "execution_count": 3,
   "id": "650381e6",
   "metadata": {},
   "outputs": [],
   "source": [
    "img=cv2.imread('./images/bird.jpg')"
   ]
  },
  {
   "cell_type": "code",
   "execution_count": 4,
   "id": "75d45494",
   "metadata": {},
   "outputs": [
    {
     "data": {
      "text/plain": [
       "array([[[23, 17, 28],\n",
       "        [23, 17, 28],\n",
       "        [23, 17, 28],\n",
       "        ...,\n",
       "        [23, 18, 27],\n",
       "        [23, 18, 27],\n",
       "        [23, 18, 27]],\n",
       "\n",
       "       [[23, 17, 28],\n",
       "        [23, 17, 28],\n",
       "        [23, 17, 28],\n",
       "        ...,\n",
       "        [23, 18, 27],\n",
       "        [23, 18, 27],\n",
       "        [23, 18, 27]],\n",
       "\n",
       "       [[23, 17, 28],\n",
       "        [23, 17, 28],\n",
       "        [23, 17, 28],\n",
       "        ...,\n",
       "        [23, 18, 27],\n",
       "        [23, 18, 27],\n",
       "        [23, 18, 27]],\n",
       "\n",
       "       ...,\n",
       "\n",
       "       [[23, 18, 27],\n",
       "        [23, 18, 27],\n",
       "        [23, 18, 27],\n",
       "        ...,\n",
       "        [23, 18, 27],\n",
       "        [23, 18, 27],\n",
       "        [23, 18, 27]],\n",
       "\n",
       "       [[23, 18, 27],\n",
       "        [23, 18, 27],\n",
       "        [23, 18, 27],\n",
       "        ...,\n",
       "        [23, 18, 27],\n",
       "        [23, 18, 27],\n",
       "        [23, 18, 27]],\n",
       "\n",
       "       [[23, 18, 27],\n",
       "        [23, 18, 27],\n",
       "        [23, 18, 27],\n",
       "        ...,\n",
       "        [23, 18, 27],\n",
       "        [23, 18, 27],\n",
       "        [23, 18, 27]]], dtype=uint8)"
      ]
     },
     "execution_count": 4,
     "metadata": {},
     "output_type": "execute_result"
    }
   ],
   "source": [
    "img"
   ]
  },
  {
   "cell_type": "code",
   "execution_count": 5,
   "id": "b7997172",
   "metadata": {},
   "outputs": [],
   "source": [
    "def display_image(winname,image):\n",
    "    cv2.imshow(winname,image)\n",
    "    cv2.waitKey(0)\n",
    "    cv2.destroyAllWindows()"
   ]
  },
  {
   "cell_type": "code",
   "execution_count": 6,
   "id": "8ceeadb2",
   "metadata": {},
   "outputs": [],
   "source": [
    "display_image('Bird image',img)"
   ]
  },
  {
   "cell_type": "code",
   "execution_count": 7,
   "id": "1c6e0988",
   "metadata": {},
   "outputs": [
    {
     "data": {
      "text/plain": [
       "(148, 244, 3)"
      ]
     },
     "execution_count": 7,
     "metadata": {},
     "output_type": "execute_result"
    }
   ],
   "source": [
    "img.shape"
   ]
  },
  {
   "cell_type": "code",
   "execution_count": 8,
   "id": "dc7fa688",
   "metadata": {},
   "outputs": [],
   "source": [
    "# this meand image has 148 rows and 244 columns\n",
    "# now we access the certain pixels only"
   ]
  },
  {
   "cell_type": "code",
   "execution_count": 9,
   "id": "1d2869cb",
   "metadata": {},
   "outputs": [
    {
     "data": {
      "text/plain": [
       "numpy.ndarray"
      ]
     },
     "execution_count": 9,
     "metadata": {},
     "output_type": "execute_result"
    }
   ],
   "source": [
    "type(img)"
   ]
  },
  {
   "cell_type": "code",
   "execution_count": 10,
   "id": "e8370bf0",
   "metadata": {},
   "outputs": [],
   "source": [
    "#letus access the first 100 rows and 100 columns\n",
    "corners = img[0:100,0:100]"
   ]
  },
  {
   "cell_type": "code",
   "execution_count": 11,
   "id": "48984196",
   "metadata": {},
   "outputs": [],
   "source": [
    "display_image('corners',corners)"
   ]
  },
  {
   "cell_type": "code",
   "execution_count": 12,
   "id": "ef576455",
   "metadata": {},
   "outputs": [],
   "source": [
    "display_image('original',img)"
   ]
  },
  {
   "cell_type": "code",
   "execution_count": 13,
   "id": "e0dc4900",
   "metadata": {},
   "outputs": [],
   "source": [
    "# changinf first 100 rows and 100 columns to green colour\n",
    "green = (0,255,0)"
   ]
  },
  {
   "cell_type": "code",
   "execution_count": 14,
   "id": "9e2a09e8",
   "metadata": {},
   "outputs": [],
   "source": [
    "img[0:100,0:100] =green"
   ]
  },
  {
   "cell_type": "code",
   "execution_count": 15,
   "id": "28bb4256",
   "metadata": {},
   "outputs": [],
   "source": [
    "display_image('manipulate',img)"
   ]
  },
  {
   "cell_type": "markdown",
   "id": "b45108c6",
   "metadata": {},
   "source": [
    "## Drawing a line in openCV"
   ]
  },
  {
   "cell_type": "code",
   "execution_count": null,
   "id": "9d46b81b",
   "metadata": {},
   "outputs": [],
   "source": []
  }
 ],
 "metadata": {
  "kernelspec": {
   "display_name": "Python 3 (ipykernel)",
   "language": "python",
   "name": "python3"
  },
  "language_info": {
   "codemirror_mode": {
    "name": "ipython",
    "version": 3
   },
   "file_extension": ".py",
   "mimetype": "text/x-python",
   "name": "python",
   "nbconvert_exporter": "python",
   "pygments_lexer": "ipython3",
   "version": "3.11.3"
  }
 },
 "nbformat": 4,
 "nbformat_minor": 5
}
