{
 "cells": [
  {
   "cell_type": "code",
   "execution_count": 1,
   "id": "a0fc690c",
   "metadata": {},
   "outputs": [],
   "source": [
    "#Bibek Shiwakoti\n",
    "# Feb 12 2024"
   ]
  },
  {
   "cell_type": "code",
   "execution_count": 17,
   "id": "c345d005",
   "metadata": {},
   "outputs": [],
   "source": [
    "import numpy as np\n",
    "import cv2 "
   ]
  },
  {
   "cell_type": "code",
   "execution_count": 18,
   "id": "650381e6",
   "metadata": {},
   "outputs": [],
   "source": [
    "img=cv2.imread('./images/bird.jpg')"
   ]
  },
  {
   "cell_type": "code",
   "execution_count": 19,
   "id": "75d45494",
   "metadata": {},
   "outputs": [
    {
     "data": {
      "text/plain": [
       "array([[[23, 17, 28],\n",
       "        [23, 17, 28],\n",
       "        [23, 17, 28],\n",
       "        ...,\n",
       "        [23, 18, 27],\n",
       "        [23, 18, 27],\n",
       "        [23, 18, 27]],\n",
       "\n",
       "       [[23, 17, 28],\n",
       "        [23, 17, 28],\n",
       "        [23, 17, 28],\n",
       "        ...,\n",
       "        [23, 18, 27],\n",
       "        [23, 18, 27],\n",
       "        [23, 18, 27]],\n",
       "\n",
       "       [[23, 17, 28],\n",
       "        [23, 17, 28],\n",
       "        [23, 17, 28],\n",
       "        ...,\n",
       "        [23, 18, 27],\n",
       "        [23, 18, 27],\n",
       "        [23, 18, 27]],\n",
       "\n",
       "       ...,\n",
       "\n",
       "       [[23, 18, 27],\n",
       "        [23, 18, 27],\n",
       "        [23, 18, 27],\n",
       "        ...,\n",
       "        [23, 18, 27],\n",
       "        [23, 18, 27],\n",
       "        [23, 18, 27]],\n",
       "\n",
       "       [[23, 18, 27],\n",
       "        [23, 18, 27],\n",
       "        [23, 18, 27],\n",
       "        ...,\n",
       "        [23, 18, 27],\n",
       "        [23, 18, 27],\n",
       "        [23, 18, 27]],\n",
       "\n",
       "       [[23, 18, 27],\n",
       "        [23, 18, 27],\n",
       "        [23, 18, 27],\n",
       "        ...,\n",
       "        [23, 18, 27],\n",
       "        [23, 18, 27],\n",
       "        [23, 18, 27]]], dtype=uint8)"
      ]
     },
     "execution_count": 19,
     "metadata": {},
     "output_type": "execute_result"
    }
   ],
   "source": [
    "img"
   ]
  },
  {
   "cell_type": "code",
   "execution_count": 20,
   "id": "b7997172",
   "metadata": {},
   "outputs": [],
   "source": [
    "def display_image(winname,image):\n",
    "    cv2.imshow(winname,image)\n",
    "    cv2.waitKey(0)\n",
    "    cv2.destroyAllWindows()"
   ]
  },
  {
   "cell_type": "code",
   "execution_count": 21,
   "id": "8ceeadb2",
   "metadata": {},
   "outputs": [],
   "source": [
    "display_image('Bird image',img)"
   ]
  },
  {
   "cell_type": "code",
   "execution_count": 22,
   "id": "1c6e0988",
   "metadata": {},
   "outputs": [
    {
     "data": {
      "text/plain": [
       "(148, 244, 3)"
      ]
     },
     "execution_count": 22,
     "metadata": {},
     "output_type": "execute_result"
    }
   ],
   "source": [
    "img.shape"
   ]
  },
  {
   "cell_type": "code",
   "execution_count": 23,
   "id": "dc7fa688",
   "metadata": {},
   "outputs": [],
   "source": [
    "# this meand image has 148 rows and 244 columns\n",
    "# now we access the certain pixels only"
   ]
  },
  {
   "cell_type": "code",
   "execution_count": 24,
   "id": "1d2869cb",
   "metadata": {},
   "outputs": [
    {
     "data": {
      "text/plain": [
       "numpy.ndarray"
      ]
     },
     "execution_count": 24,
     "metadata": {},
     "output_type": "execute_result"
    }
   ],
   "source": [
    "type(img)"
   ]
  },
  {
   "cell_type": "code",
   "execution_count": 25,
   "id": "e8370bf0",
   "metadata": {},
   "outputs": [],
   "source": [
    "#letus access the first 100 rows and 100 columns\n",
    "corners = img[0:100,0:100]"
   ]
  },
  {
   "cell_type": "code",
   "execution_count": 26,
   "id": "48984196",
   "metadata": {},
   "outputs": [],
   "source": [
    "display_image('corners',corners)"
   ]
  },
  {
   "cell_type": "code",
   "execution_count": 27,
   "id": "ef576455",
   "metadata": {},
   "outputs": [],
   "source": [
    "display_image('original',img)"
   ]
  },
  {
   "cell_type": "code",
   "execution_count": 28,
   "id": "e0dc4900",
   "metadata": {},
   "outputs": [],
   "source": [
    "# changinf first 100 rows and 100 columns to green colour\n",
    "green = (0,255,0)"
   ]
  },
  {
   "cell_type": "code",
   "execution_count": 29,
   "id": "9e2a09e8",
   "metadata": {},
   "outputs": [],
   "source": [
    "img[0:100,0:100] =green"
   ]
  },
  {
   "cell_type": "code",
   "execution_count": 30,
   "id": "28bb4256",
   "metadata": {},
   "outputs": [],
   "source": [
    "display_image('manipulate',img)"
   ]
  },
  {
   "cell_type": "markdown",
   "id": "b45108c6",
   "metadata": {},
   "source": [
    "## Drawing a line in openCV"
   ]
  },
  {
   "cell_type": "code",
   "execution_count": 37,
   "id": "3e4dffa1",
   "metadata": {},
   "outputs": [],
   "source": [
    "canvas =np.zeros((300,300,3),dtype='uint8')\n",
    "display_image(\"canvas\",canvas)"
   ]
  },
  {
   "cell_type": "code",
   "execution_count": 34,
   "id": "ead4be55",
   "metadata": {},
   "outputs": [],
   "source": [
    "display_image('canvas',canvas)"
   ]
  },
  {
   "cell_type": "code",
   "execution_count": 38,
   "id": "9d46b81b",
   "metadata": {},
   "outputs": [],
   "source": [
    "green = (0,255,0)\n",
    "cv2.line(canvas,(0,0),(300,300),green)\n",
    "display_image('canvas',canvas)"
   ]
  },
  {
   "cell_type": "code",
   "execution_count": 41,
   "id": "f2b9f7d2",
   "metadata": {},
   "outputs": [],
   "source": [
    "red = (0,0,255)\n",
    "cv2.line(canvas,(300,0),(0,300),red)\n",
    "display_image('canvas',canvas)"
   ]
  },
  {
   "cell_type": "markdown",
   "id": "95e1fc1a",
   "metadata": {},
   "source": [
    "## Drawing rectangle"
   ]
  },
  {
   "cell_type": "code",
   "execution_count": 42,
   "id": "c2411206",
   "metadata": {},
   "outputs": [],
   "source": [
    "cv2.rectangle(canvas,(10,10),(60,60),green)\n",
    "display_image('canvas',canvas)"
   ]
  },
  {
   "cell_type": "code",
   "execution_count": 43,
   "id": "11e57f8d",
   "metadata": {},
   "outputs": [],
   "source": [
    "cv2.rectangle(canvas,(50,200),(200,225),red,5)  #last 5 is thickness\n",
    "display_image('canvas',canvas)"
   ]
  },
  {
   "cell_type": "code",
   "execution_count": 45,
   "id": "dcc036b3",
   "metadata": {},
   "outputs": [],
   "source": [
    "blue =(255,0,0)\n",
    "cv2.rectangle(canvas,(200,50),(225,200),blue,-1)  #opencv understands that -1 means fill the whole\n",
    "display_image('canvas',canvas)"
   ]
  },
  {
   "cell_type": "code",
   "execution_count": null,
   "id": "34d8610c",
   "metadata": {},
   "outputs": [],
   "source": []
  }
 ],
 "metadata": {
  "kernelspec": {
   "display_name": "Python 3 (ipykernel)",
   "language": "python",
   "name": "python3"
  },
  "language_info": {
   "codemirror_mode": {
    "name": "ipython",
    "version": 3
   },
   "file_extension": ".py",
   "mimetype": "text/x-python",
   "name": "python",
   "nbconvert_exporter": "python",
   "pygments_lexer": "ipython3",
   "version": "3.11.3"
  }
 },
 "nbformat": 4,
 "nbformat_minor": 5
}
