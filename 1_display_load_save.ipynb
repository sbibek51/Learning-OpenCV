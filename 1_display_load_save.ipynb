{
 "cells": [
  {
   "cell_type": "code",
   "execution_count": 2,
   "id": "492176b5",
   "metadata": {},
   "outputs": [
    {
     "data": {
      "text/plain": [
       "'Learning openCV for the image processing'"
      ]
     },
     "execution_count": 2,
     "metadata": {},
     "output_type": "execute_result"
    },
    {
     "data": {
      "text/plain": [
       "'Learning openCV for the image processing'"
      ]
     },
     "execution_count": 2,
     "metadata": {},
     "output_type": "execute_result"
    }
   ],
   "source": [
    "#Bibek Shiwakoti\n",
    "\"\"\"Learning openCV for the image processing\"\"\""
   ]
  },
  {
   "cell_type": "code",
   "execution_count": null,
   "id": "d679ef5b",
   "metadata": {},
   "outputs": [],
   "source": [
    "import numpy as np\n",
    "import cv2"
   ]
  },
  {
   "cell_type": "code",
   "execution_count": null,
   "id": "2d174dc3",
   "metadata": {},
   "outputs": [],
   "source": [
    "# pip install opencv-python (installed opencv for python)"
   ]
  },
  {
   "cell_type": "code",
   "execution_count": null,
   "id": "5bd9ebaf",
   "metadata": {},
   "outputs": [],
   "source": [
    "# pip freeze (making sure py seeing in pip freeze) "
   ]
  },
  {
   "cell_type": "markdown",
   "id": "9462caa8",
   "metadata": {},
   "source": []
  },
  {
   "cell_type": "code",
   "execution_count": null,
   "id": "e9494d03",
   "metadata": {},
   "outputs": [],
   "source": [
    "img = cv2.imread('./images/bird.jpg')"
   ]
  },
  {
   "cell_type": "code",
   "execution_count": null,
   "id": "2f620ee6",
   "metadata": {},
   "outputs": [],
   "source": [
    "print(img)"
   ]
  },
  {
   "cell_type": "code",
   "execution_count": null,
   "id": "e85793e7",
   "metadata": {},
   "outputs": [],
   "source": [
    "img.shape"
   ]
  },
  {
   "cell_type": "code",
   "execution_count": 9,
   "id": "d206fce4",
   "metadata": {},
   "outputs": [],
   "source": [
    "cv2.imshow('bird window example',img)\n",
    "cv2.waitKey(5000) #milliseconds\n",
    "cv2.destroyAllWindows()"
   ]
  },
  {
   "cell_type": "code",
   "execution_count": 10,
   "id": "e5fefb13",
   "metadata": {},
   "outputs": [],
   "source": [
    "cv2.imshow('bird window example',img)\n",
    "cv2.waitKey(0) #image holds until and unless we press the button\n",
    "cv2.destroyAllWindows()"
   ]
  },
  {
   "cell_type": "markdown",
   "id": "3211230e",
   "metadata": {},
   "source": [
    "## Save an image"
   ]
  },
  {
   "cell_type": "code",
   "execution_count": 20,
   "id": "1ddf2a36",
   "metadata": {},
   "outputs": [
    {
     "data": {
      "text/plain": [
       "True"
      ]
     },
     "execution_count": 20,
     "metadata": {},
     "output_type": "execute_result"
    }
   ],
   "source": [
    "cv2.imwrite('./images/example.png',img)    "
   ]
  },
  {
   "cell_type": "code",
   "execution_count": 21,
   "id": "461f65bf",
   "metadata": {},
   "outputs": [],
   "source": [
    "img = cv2.imread('./images/mountain.jpg')    "
   ]
  },
  {
   "cell_type": "code",
   "execution_count": 22,
   "id": "13284673",
   "metadata": {},
   "outputs": [
    {
     "data": {
      "text/plain": [
       "(148, 265, 3)"
      ]
     },
     "execution_count": 22,
     "metadata": {},
     "output_type": "execute_result"
    }
   ],
   "source": [
    "img.shape"
   ]
  },
  {
   "cell_type": "code",
   "execution_count": 23,
   "id": "c715c385",
   "metadata": {},
   "outputs": [
    {
     "data": {
      "text/plain": [
       "-1"
      ]
     },
     "execution_count": 23,
     "metadata": {},
     "output_type": "execute_result"
    }
   ],
   "source": [
    "cv2.imshow(' mountain image',img)\n",
    "cv2.waitKey(0)"
   ]
  },
  {
   "cell_type": "code",
   "execution_count": 24,
   "id": "9729a007",
   "metadata": {},
   "outputs": [
    {
     "data": {
      "text/plain": [
       "array([[[195,  89,  12],\n",
       "        [195,  89,  12],\n",
       "        [195,  89,  12],\n",
       "        ...,\n",
       "        [192,  91,   5],\n",
       "        [192,  91,   5],\n",
       "        [193,  92,   6]],\n",
       "\n",
       "       [[195,  89,  12],\n",
       "        [195,  90,  11],\n",
       "        [195,  89,  12],\n",
       "        ...,\n",
       "        [194,  93,   7],\n",
       "        [194,  93,   7],\n",
       "        [195,  94,   8]],\n",
       "\n",
       "       [[198,  90,  12],\n",
       "        [198,  91,  10],\n",
       "        [198,  90,  12],\n",
       "        ...,\n",
       "        [195,  96,  12],\n",
       "        [195,  96,  12],\n",
       "        [196,  97,  13]],\n",
       "\n",
       "       ...,\n",
       "\n",
       "       [[ 99,  61,  57],\n",
       "        [ 70,  32,  28],\n",
       "        [ 78,  40,  36],\n",
       "        ...,\n",
       "        [ 59,  41,  42],\n",
       "        [ 54,  36,  37],\n",
       "        [ 54,  38,  39]],\n",
       "\n",
       "       [[107,  69,  65],\n",
       "        [ 82,  44,  40],\n",
       "        [ 85,  47,  43],\n",
       "        ...,\n",
       "        [ 44,  26,  27],\n",
       "        [ 41,  23,  24],\n",
       "        [ 44,  28,  29]],\n",
       "\n",
       "       [[103,  65,  61],\n",
       "        [ 94,  56,  52],\n",
       "        [103,  65,  61],\n",
       "        ...,\n",
       "        [ 33,  15,  16],\n",
       "        [ 34,  16,  17],\n",
       "        [ 33,  17,  18]]], dtype=uint8)"
      ]
     },
     "execution_count": 24,
     "metadata": {},
     "output_type": "execute_result"
    }
   ],
   "source": [
    "img   #read images in b-g-r format"
   ]
  },
  {
   "cell_type": "code",
   "execution_count": 25,
   "id": "ec61ff04",
   "metadata": {},
   "outputs": [],
   "source": [
    "b,g,r = cv2.split(img)"
   ]
  },
  {
   "cell_type": "code",
   "execution_count": 26,
   "id": "aba5f097",
   "metadata": {},
   "outputs": [
    {
     "data": {
      "text/plain": [
       "array([[195, 195, 195, ..., 192, 192, 193],\n",
       "       [195, 195, 195, ..., 194, 194, 195],\n",
       "       [198, 198, 198, ..., 195, 195, 196],\n",
       "       ...,\n",
       "       [ 99,  70,  78, ...,  59,  54,  54],\n",
       "       [107,  82,  85, ...,  44,  41,  44],\n",
       "       [103,  94, 103, ...,  33,  34,  33]], dtype=uint8)"
      ]
     },
     "execution_count": 26,
     "metadata": {},
     "output_type": "execute_result"
    }
   ],
   "source": [
    "b"
   ]
  },
  {
   "cell_type": "code",
   "execution_count": 27,
   "id": "aa8b0c83",
   "metadata": {},
   "outputs": [],
   "source": [
    "cv2.imshow('color',img)\n",
    "cv2.imshow('blue',b)\n",
    "cv2.imshow('green',g)\n",
    "cv2.imshow('red',r)\n",
    "cv2.waitKey(0)\n",
    "cv2.destroyAllWindows()"
   ]
  },
  {
   "cell_type": "markdown",
   "id": "14884ef4",
   "metadata": {},
   "source": [
    "## color converter"
   ]
  },
  {
   "cell_type": "code",
   "execution_count": 28,
   "id": "2905c577",
   "metadata": {},
   "outputs": [],
   "source": [
    "img_rgb = cv2.cvtColor(img,cv2.COLOR_BGR2RGB)"
   ]
  },
  {
   "cell_type": "code",
   "execution_count": 33,
   "id": "b6153d17",
   "metadata": {},
   "outputs": [],
   "source": [
    "#grayscale\n",
    "img_gray =cv2.cvtColor(img,cv2.COLOR_BGR2GRAY)"
   ]
  },
  {
   "cell_type": "code",
   "execution_count": 36,
   "id": "c7f34e25",
   "metadata": {},
   "outputs": [],
   "source": [
    "cv2.imshow('bgr',img)\n",
    "cv2.imshow('rgb',img_rgb)\n",
    "cv2.imshow('gray',img_gray)\n",
    "cv2.waitKey(0)\n",
    "cv2.destroyAllWindows()\n"
   ]
  },
  {
   "cell_type": "code",
   "execution_count": 38,
   "id": "0fa7411c",
   "metadata": {},
   "outputs": [
    {
     "data": {
      "text/plain": [
       "True"
      ]
     },
     "execution_count": 38,
     "metadata": {},
     "output_type": "execute_result"
    }
   ],
   "source": [
    "cv2.imwrite(\"./images/Gray.png\",img_gray)"
   ]
  },
  {
   "cell_type": "code",
   "execution_count": null,
   "id": "3ddee9a2",
   "metadata": {},
   "outputs": [],
   "source": []
  },
  {
   "cell_type": "code",
   "execution_count": null,
   "id": "a7d127ed",
   "metadata": {},
   "outputs": [],
   "source": []
  }
 ],
 "metadata": {
  "kernelspec": {
   "display_name": "Python 3 (ipykernel)",
   "language": "python",
   "name": "python3"
  },
  "language_info": {
   "codemirror_mode": {
    "name": "ipython",
    "version": 3
   },
   "file_extension": ".py",
   "mimetype": "text/x-python",
   "name": "python",
   "nbconvert_exporter": "python",
   "pygments_lexer": "ipython3",
   "version": "3.11.3"
  }
 },
 "nbformat": 4,
 "nbformat_minor": 5
}
