{
 "cells": [
  {
   "cell_type": "code",
   "execution_count": 2,
   "id": "492176b5",
   "metadata": {},
   "outputs": [
    {
     "data": {
      "text/plain": [
       "'Learning openCV for the image processing'"
      ]
     },
     "execution_count": 2,
     "metadata": {},
     "output_type": "execute_result"
    }
   ],
   "source": [
    "#Bibek Shiwakoti\n",
    "\"\"\"Learning openCV for the image processing\"\"\""
   ]
  },
  {
   "cell_type": "code",
   "execution_count": 2,
   "id": "d679ef5b",
   "metadata": {},
   "outputs": [],
   "source": [
    "import numpy as np\n",
    "import cv2"
   ]
  },
  {
   "cell_type": "code",
   "execution_count": 4,
   "id": "2d174dc3",
   "metadata": {},
   "outputs": [
    {
     "name": "stdout",
     "output_type": "stream",
     "text": [
      "Collecting opencv-python\n",
      "  Downloading opencv_python-4.9.0.80-cp37-abi3-win_amd64.whl (38.6 MB)\n",
      "     --------------------------------------- 38.6/38.6 MB 40.9 MB/s eta 0:00:00\n",
      "Requirement already satisfied: numpy>=1.21.2 in c:\\users\\travelmate\\appdata\\local\\programs\\python\\python311\\lib\\site-packages (from opencv-python) (1.25.1)\n",
      "Installing collected packages: opencv-python\n",
      "Successfully installed opencv-python-4.9.0.80\n",
      "Note: you may need to restart the kernel to use updated packages.\n"
     ]
    },
    {
     "name": "stderr",
     "output_type": "stream",
     "text": [
      "\n",
      "[notice] A new release of pip available: 22.3.1 -> 24.0\n",
      "[notice] To update, run: python.exe -m pip install --upgrade pip\n"
     ]
    }
   ],
   "source": [
    "# pip install opencv-python (installed opencv for python)"
   ]
  },
  {
   "cell_type": "code",
   "execution_count": 4,
   "id": "5bd9ebaf",
   "metadata": {},
   "outputs": [],
   "source": [
    "# pip freeze (making sure py seeing in pip freeze) "
   ]
  },
  {
   "cell_type": "code",
   "execution_count": 8,
   "id": "e9494d03",
   "metadata": {},
   "outputs": [],
   "source": [
    "img = cv2.imread('./images/bird.jpg')"
   ]
  },
  {
   "cell_type": "code",
   "execution_count": 9,
   "id": "2f620ee6",
   "metadata": {},
   "outputs": [
    {
     "name": "stdout",
     "output_type": "stream",
     "text": [
      "[[[23 17 28]\n",
      "  [23 17 28]\n",
      "  [23 17 28]\n",
      "  ...\n",
      "  [23 18 27]\n",
      "  [23 18 27]\n",
      "  [23 18 27]]\n",
      "\n",
      " [[23 17 28]\n",
      "  [23 17 28]\n",
      "  [23 17 28]\n",
      "  ...\n",
      "  [23 18 27]\n",
      "  [23 18 27]\n",
      "  [23 18 27]]\n",
      "\n",
      " [[23 17 28]\n",
      "  [23 17 28]\n",
      "  [23 17 28]\n",
      "  ...\n",
      "  [23 18 27]\n",
      "  [23 18 27]\n",
      "  [23 18 27]]\n",
      "\n",
      " ...\n",
      "\n",
      " [[23 18 27]\n",
      "  [23 18 27]\n",
      "  [23 18 27]\n",
      "  ...\n",
      "  [23 18 27]\n",
      "  [23 18 27]\n",
      "  [23 18 27]]\n",
      "\n",
      " [[23 18 27]\n",
      "  [23 18 27]\n",
      "  [23 18 27]\n",
      "  ...\n",
      "  [23 18 27]\n",
      "  [23 18 27]\n",
      "  [23 18 27]]\n",
      "\n",
      " [[23 18 27]\n",
      "  [23 18 27]\n",
      "  [23 18 27]\n",
      "  ...\n",
      "  [23 18 27]\n",
      "  [23 18 27]\n",
      "  [23 18 27]]]\n"
     ]
    }
   ],
   "source": [
    "print(img)"
   ]
  },
  {
   "cell_type": "code",
   "execution_count": 13,
   "id": "e85793e7",
   "metadata": {},
   "outputs": [
    {
     "data": {
      "text/plain": [
       "(148, 244, 3)"
      ]
     },
     "execution_count": 13,
     "metadata": {},
     "output_type": "execute_result"
    }
   ],
   "source": [
    "img.shape"
   ]
  },
  {
   "cell_type": "code",
   "execution_count": 22,
   "id": "d206fce4",
   "metadata": {},
   "outputs": [],
   "source": [
    "cv2.imshow('bird window example',img)\n",
    "cv2.waitKey(5000) #milliseconds\n",
    "cv2.destroyAllWindows()"
   ]
  },
  {
   "cell_type": "code",
   "execution_count": 23,
   "id": "e5fefb13",
   "metadata": {},
   "outputs": [],
   "source": [
    "cv2.imshow('bird window example',img)\n",
    "cv2.waitKey(0) #image holds until and unless we press the button\n",
    "cv2.destroyAllWindows()"
   ]
  },
  {
   "cell_type": "markdown",
   "id": "3211230e",
   "metadata": {},
   "source": [
    "## Save an image"
   ]
  },
  {
   "cell_type": "code",
   "execution_count": 24,
   "id": "1ddf2a36",
   "metadata": {},
   "outputs": [
    {
     "data": {
      "text/plain": [
       "True"
      ]
     },
     "execution_count": 24,
     "metadata": {},
     "output_type": "execute_result"
    }
   ],
   "source": [
    "cv2.imwrite('./images/example.png',img)"
   ]
  },
  {
   "cell_type": "code",
   "execution_count": null,
   "id": "461f65bf",
   "metadata": {},
   "outputs": [],
   "source": []
  }
 ],
 "metadata": {
  "kernelspec": {
   "display_name": "Python 3 (ipykernel)",
   "language": "python",
   "name": "python3"
  },
  "language_info": {
   "codemirror_mode": {
    "name": "ipython",
    "version": 3
   },
   "file_extension": ".py",
   "mimetype": "text/x-python",
   "name": "python",
   "nbconvert_exporter": "python",
   "pygments_lexer": "ipython3",
   "version": "3.11.3"
  }
 },
 "nbformat": 4,
 "nbformat_minor": 5
}
